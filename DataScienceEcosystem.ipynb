{
 "cells": [
  {
   "cell_type": "markdown",
   "id": "8e25b016-70f5-49a8-8985-3402d3bf072d",
   "metadata": {
    "tags": []
   },
   "source": [
    "# Data Science Tools and Ecosystem"
   ]
  },
  {
   "cell_type": "markdown",
   "id": "435c74ab-6c75-48c1-a07d-0961b5e717df",
   "metadata": {},
   "source": [
    "In this notebook, Data Science Tools and Ecosystem are summarized."
   ]
  },
  {
   "cell_type": "markdown",
   "id": "6b207052-4bf5-41d1-a04c-d38ec48cc825",
   "metadata": {},
   "source": [
    "Some of the popular languages that Data Scientists use are:\n",
    "1. Python\n",
    "2. R\n",
    "3. Julia"
   ]
  },
  {
   "cell_type": "markdown",
   "id": "887db1b4-ed2f-4a8b-8d91-0cabb3c84afb",
   "metadata": {},
   "source": [
    "Some of the commonly used libraries used by Data Scientists include:\n",
    "1. NLP toolkit\n",
    "2. Pandas\n",
    "3. Numpy"
   ]
  },
  {
   "cell_type": "markdown",
   "id": "c6017409-7d96-44bb-a07b-640cb486a15b",
   "metadata": {},
   "source": [
    "| Data Science Tools |\n",
    "| ------------------ |\n",
    "| Jupyter notebook |\n",
    "| Vs Code |\n",
    "| Google Colab |"
   ]
  },
  {
   "cell_type": "markdown",
   "id": "112c54d9-3a5e-4a86-a9a4-cdcef5416a4b",
   "metadata": {},
   "source": [
    "### Below are a few examples of evaluating arithmetic expressions in Python"
   ]
  },
  {
   "cell_type": "code",
   "execution_count": 3,
   "id": "a4cc4644-947d-4f94-aa41-a2a9c58bbd2b",
   "metadata": {
    "tags": []
   },
   "outputs": [
    {
     "data": {
      "text/plain": [
       "17"
      ]
     },
     "execution_count": 3,
     "metadata": {},
     "output_type": "execute_result"
    }
   ],
   "source": [
    "\"This a simple arithmetic expression to mutiply then add integers\"\n",
    "(3*4)+5"
   ]
  },
  {
   "cell_type": "code",
   "execution_count": 4,
   "id": "93c34edc-abe2-4c69-b08d-cac0d12a3801",
   "metadata": {
    "tags": []
   },
   "outputs": [
    {
     "data": {
      "text/plain": [
       "3.3333333333333335"
      ]
     },
     "execution_count": 4,
     "metadata": {},
     "output_type": "execute_result"
    }
   ],
   "source": [
    "\"This will convert 200 minutes to hours by diving by 60\"\n",
    "(200/60)"
   ]
  },
  {
   "cell_type": "markdown",
   "id": "a4d15190-e064-48c2-ae25-ee6462b75277",
   "metadata": {},
   "source": [
    "**Objectives:**\n",
    "- list of popular language in Data Scientist.\n",
    "- How to write simple arithmetic in jupyter notebook.\n",
    "- how to make a table in jupyter notebook."
   ]
  },
  {
   "cell_type": "markdown",
   "id": "466c73bd-af5d-4769-bf8d-20ff95454160",
   "metadata": {},
   "source": [
    "## Author\n",
    "Bashir Abdinoor"
   ]
  }
 ],
 "metadata": {
  "kernelspec": {
   "display_name": "Python",
   "language": "python",
   "name": "conda-env-python-py"
  },
  "language_info": {
   "codemirror_mode": {
    "name": "ipython",
    "version": 3
   },
   "file_extension": ".py",
   "mimetype": "text/x-python",
   "name": "python",
   "nbconvert_exporter": "python",
   "pygments_lexer": "ipython3",
   "version": "3.7.12"
  }
 },
 "nbformat": 4,
 "nbformat_minor": 5
}
